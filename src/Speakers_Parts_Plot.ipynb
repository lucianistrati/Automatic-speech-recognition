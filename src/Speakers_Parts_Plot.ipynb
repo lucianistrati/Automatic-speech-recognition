{
  "nbformat": 4,
  "nbformat_minor": 0,
  "metadata": {
    "colab": {
      "provenance": []
    },
    "kernelspec": {
      "name": "python3",
      "display_name": "Python 3"
    },
    "language_info": {
      "name": "python"
    }
  },
  "cells": [
    {
      "cell_type": "code",
      "execution_count": 7,
      "metadata": {
        "colab": {
          "base_uri": "https://localhost:8080/"
        },
        "id": "_0RzPqa3GUCg",
        "outputId": "85af020d-2556-497a-f3ae-fdfd9b44f0c9"
      },
      "outputs": [
        {
          "output_type": "stream",
          "name": "stdout",
          "text": [
            "    Unnamed: 0      from        to Speaker\n",
            "0            0     0.250    58.290   spk_0\n",
            "1            1    58.790   262.809   spk_1\n",
            "2            2   263.299   265.160   spk_0\n",
            "3            3   265.239   422.609   spk_1\n",
            "4            4   423.119   442.130   spk_0\n",
            "5            5   442.510   457.839   spk_1\n",
            "6            6   458.119   483.890   spk_0\n",
            "7            7   484.119   550.429   spk_1\n",
            "8            8   552.219   555.929   spk_0\n",
            "9            9   556.130   568.559   spk_1\n",
            "10          10   568.840   592.049   spk_0\n",
            "11          11   592.349   693.599   spk_1\n",
            "12          12   693.890   726.010   spk_0\n",
            "13          13   727.099   732.940   spk_1\n",
            "14          14   733.320   737.890   spk_0\n",
            "15          15   738.109   775.280   spk_1\n",
            "16          16   775.729   791.280   spk_0\n",
            "17          17   791.520   887.809   spk_1\n",
            "18          18   888.400   905.770   spk_0\n",
            "19          19   906.030  1001.809   spk_1\n",
            "20          20  1002.510  1010.340   spk_0\n",
            "21          21  1010.960  1037.680   spk_1\n",
            "22          22  1038.000  1093.474   spk_0\n"
          ]
        }
      ],
      "source": [
        "import pandas as pd\n",
        "df = pd.read_csv(\"/content/data.csv\")\n",
        "print(df)"
      ]
    },
    {
      "cell_type": "code",
      "source": [
        "import altair as alt"
      ],
      "metadata": {
        "id": "0rwOFIuPGnSK"
      },
      "execution_count": 8,
      "outputs": []
    },
    {
      "cell_type": "code",
      "source": [
        "alt.Chart(df).mark_bar().encode(\n",
        "        x='from',\n",
        "        x2='to',\n",
        "        y='Speaker',\n",
        "        color=alt.Color('Speaker', scale=alt.Scale(scheme='dark2'))\n",
        "    )\n"
      ],
      "metadata": {
        "colab": {
          "base_uri": "https://localhost:8080/",
          "height": 225
        },
        "id": "0QhwpHFdGpxw",
        "outputId": "bb5c6653-8dc1-4671-ae60-bd54eab9cbcf"
      },
      "execution_count": 9,
      "outputs": [
        {
          "output_type": "execute_result",
          "data": {
            "text/html": [
              "\n",
              "<div id=\"altair-viz-e5473c4d356346d18422b9cbd615bde9\"></div>\n",
              "<script type=\"text/javascript\">\n",
              "  var VEGA_DEBUG = (typeof VEGA_DEBUG == \"undefined\") ? {} : VEGA_DEBUG;\n",
              "  (function(spec, embedOpt){\n",
              "    let outputDiv = document.currentScript.previousElementSibling;\n",
              "    if (outputDiv.id !== \"altair-viz-e5473c4d356346d18422b9cbd615bde9\") {\n",
              "      outputDiv = document.getElementById(\"altair-viz-e5473c4d356346d18422b9cbd615bde9\");\n",
              "    }\n",
              "    const paths = {\n",
              "      \"vega\": \"https://cdn.jsdelivr.net/npm//vega@5?noext\",\n",
              "      \"vega-lib\": \"https://cdn.jsdelivr.net/npm//vega-lib?noext\",\n",
              "      \"vega-lite\": \"https://cdn.jsdelivr.net/npm//vega-lite@4.17.0?noext\",\n",
              "      \"vega-embed\": \"https://cdn.jsdelivr.net/npm//vega-embed@6?noext\",\n",
              "    };\n",
              "\n",
              "    function maybeLoadScript(lib, version) {\n",
              "      var key = `${lib.replace(\"-\", \"\")}_version`;\n",
              "      return (VEGA_DEBUG[key] == version) ?\n",
              "        Promise.resolve(paths[lib]) :\n",
              "        new Promise(function(resolve, reject) {\n",
              "          var s = document.createElement('script');\n",
              "          document.getElementsByTagName(\"head\")[0].appendChild(s);\n",
              "          s.async = true;\n",
              "          s.onload = () => {\n",
              "            VEGA_DEBUG[key] = version;\n",
              "            return resolve(paths[lib]);\n",
              "          };\n",
              "          s.onerror = () => reject(`Error loading script: ${paths[lib]}`);\n",
              "          s.src = paths[lib];\n",
              "        });\n",
              "    }\n",
              "\n",
              "    function showError(err) {\n",
              "      outputDiv.innerHTML = `<div class=\"error\" style=\"color:red;\">${err}</div>`;\n",
              "      throw err;\n",
              "    }\n",
              "\n",
              "    function displayChart(vegaEmbed) {\n",
              "      vegaEmbed(outputDiv, spec, embedOpt)\n",
              "        .catch(err => showError(`Javascript Error: ${err.message}<br>This usually means there's a typo in your chart specification. See the javascript console for the full traceback.`));\n",
              "    }\n",
              "\n",
              "    if(typeof define === \"function\" && define.amd) {\n",
              "      requirejs.config({paths});\n",
              "      require([\"vega-embed\"], displayChart, err => showError(`Error loading script: ${err.message}`));\n",
              "    } else {\n",
              "      maybeLoadScript(\"vega\", \"5\")\n",
              "        .then(() => maybeLoadScript(\"vega-lite\", \"4.17.0\"))\n",
              "        .then(() => maybeLoadScript(\"vega-embed\", \"6\"))\n",
              "        .catch(showError)\n",
              "        .then(() => displayChart(vegaEmbed));\n",
              "    }\n",
              "  })({\"config\": {\"view\": {\"continuousWidth\": 400, \"continuousHeight\": 300}}, \"data\": {\"name\": \"data-11850c131a484a33fd8dedd834cb4574\"}, \"mark\": \"bar\", \"encoding\": {\"color\": {\"field\": \"Speaker\", \"scale\": {\"scheme\": \"dark2\"}, \"type\": \"nominal\"}, \"x\": {\"field\": \"from\", \"type\": \"quantitative\"}, \"x2\": {\"field\": \"to\"}, \"y\": {\"field\": \"Speaker\", \"type\": \"nominal\"}}, \"$schema\": \"https://vega.github.io/schema/vega-lite/v4.17.0.json\", \"datasets\": {\"data-11850c131a484a33fd8dedd834cb4574\": [{\"Unnamed: 0\": 0, \"from\": 0.25, \"to\": 58.29, \"Speaker\": \"spk_0\"}, {\"Unnamed: 0\": 1, \"from\": 58.79, \"to\": 262.809, \"Speaker\": \"spk_1\"}, {\"Unnamed: 0\": 2, \"from\": 263.299, \"to\": 265.16, \"Speaker\": \"spk_0\"}, {\"Unnamed: 0\": 3, \"from\": 265.239, \"to\": 422.609, \"Speaker\": \"spk_1\"}, {\"Unnamed: 0\": 4, \"from\": 423.119, \"to\": 442.13, \"Speaker\": \"spk_0\"}, {\"Unnamed: 0\": 5, \"from\": 442.51, \"to\": 457.839, \"Speaker\": \"spk_1\"}, {\"Unnamed: 0\": 6, \"from\": 458.119, \"to\": 483.89, \"Speaker\": \"spk_0\"}, {\"Unnamed: 0\": 7, \"from\": 484.119, \"to\": 550.429, \"Speaker\": \"spk_1\"}, {\"Unnamed: 0\": 8, \"from\": 552.219, \"to\": 555.929, \"Speaker\": \"spk_0\"}, {\"Unnamed: 0\": 9, \"from\": 556.13, \"to\": 568.559, \"Speaker\": \"spk_1\"}, {\"Unnamed: 0\": 10, \"from\": 568.84, \"to\": 592.049, \"Speaker\": \"spk_0\"}, {\"Unnamed: 0\": 11, \"from\": 592.349, \"to\": 693.599, \"Speaker\": \"spk_1\"}, {\"Unnamed: 0\": 12, \"from\": 693.89, \"to\": 726.01, \"Speaker\": \"spk_0\"}, {\"Unnamed: 0\": 13, \"from\": 727.099, \"to\": 732.94, \"Speaker\": \"spk_1\"}, {\"Unnamed: 0\": 14, \"from\": 733.32, \"to\": 737.89, \"Speaker\": \"spk_0\"}, {\"Unnamed: 0\": 15, \"from\": 738.109, \"to\": 775.28, \"Speaker\": \"spk_1\"}, {\"Unnamed: 0\": 16, \"from\": 775.729, \"to\": 791.28, \"Speaker\": \"spk_0\"}, {\"Unnamed: 0\": 17, \"from\": 791.52, \"to\": 887.809, \"Speaker\": \"spk_1\"}, {\"Unnamed: 0\": 18, \"from\": 888.4, \"to\": 905.77, \"Speaker\": \"spk_0\"}, {\"Unnamed: 0\": 19, \"from\": 906.03, \"to\": 1001.809, \"Speaker\": \"spk_1\"}, {\"Unnamed: 0\": 20, \"from\": 1002.51, \"to\": 1010.34, \"Speaker\": \"spk_0\"}, {\"Unnamed: 0\": 21, \"from\": 1010.96, \"to\": 1037.68, \"Speaker\": \"spk_1\"}, {\"Unnamed: 0\": 22, \"from\": 1038.0, \"to\": 1093.474, \"Speaker\": \"spk_0\"}]}}, {\"mode\": \"vega-lite\"});\n",
              "</script>"
            ],
            "text/plain": [
              "alt.Chart(...)"
            ]
          },
          "metadata": {},
          "execution_count": 9
        }
      ]
    },
    {
      "cell_type": "code",
      "source": [],
      "metadata": {
        "id": "BfMt1e1JGvrY"
      },
      "execution_count": null,
      "outputs": []
    }
  ]
}